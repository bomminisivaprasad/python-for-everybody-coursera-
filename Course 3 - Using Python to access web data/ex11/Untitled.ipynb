{
 "cells": [
  {
   "cell_type": "code",
   "execution_count": 2,
   "metadata": {},
   "outputs": [
    {
     "name": "stdout",
     "output_type": "stream",
     "text": [
      "Enter file name: regex_sum_27824.txt\n",
      "329178\n"
     ]
    }
   ],
   "source": [
    "# Importing the regex library\n",
    "import re\n",
    "\n",
    "# Asking user to enter the source file\n",
    "fname = input(\"Enter file name: \")\n",
    "if len(fname) < 1 : fname = \"regex_sum_42.txt\"\n",
    "# Opening the source file\n",
    "fhandle = open(fname)\n",
    "\n",
    "# Initialising the sum of the numbers\n",
    "total = 0\n",
    "\n",
    "# Reading file line-by-line\n",
    "for line in fhandle:\n",
    "    # Finding all the numbers as strings into listOfNums\n",
    "    listOfNums = re.findall('([0-9]+)', line.rstrip())\n",
    "    # If there is not any number in a line go to the next loop...\n",
    "    if len(listOfNums) < 1 :\n",
    "        continue\n",
    "    else :\n",
    "        # ... else looping through the list of numbers found...\n",
    "        for snum in listOfNums :\n",
    "            # ... and add up the converted numbers\n",
    "            total = total + int(snum)\n",
    "\n",
    "# Printing the sum of the numbers\n",
    "print(total)\n"
   ]
  },
  {
   "cell_type": "code",
   "execution_count": null,
   "metadata": {},
   "outputs": [],
   "source": []
  }
 ],
 "metadata": {
  "kernelspec": {
   "display_name": "Python 3",
   "language": "python",
   "name": "python3"
  },
  "language_info": {
   "codemirror_mode": {
    "name": "ipython",
    "version": 3
   },
   "file_extension": ".py",
   "mimetype": "text/x-python",
   "name": "python",
   "nbconvert_exporter": "python",
   "pygments_lexer": "ipython3",
   "version": "3.7.3"
  }
 },
 "nbformat": 4,
 "nbformat_minor": 2
}
